{
  "cells": [
    {
      "metadata": {
        "trusted": true
      },
      "cell_type": "code",
      "source": "import pandas as pd\nimport numpy as np\nimport statsmodels.formula.api as sm\n\nLocation=\"titanic3.xls\"\ndata = pd.read_excel(Location)",
      "execution_count": 1,
      "outputs": []
    },
    {
      "metadata": {
        "trusted": true
      },
      "cell_type": "code",
      "source": "data.head()",
      "execution_count": 2,
      "outputs": [
        {
          "output_type": "execute_result",
          "execution_count": 2,
          "data": {
            "text/html": "<div>\n<style scoped>\n    .dataframe tbody tr th:only-of-type {\n        vertical-align: middle;\n    }\n\n    .dataframe tbody tr th {\n        vertical-align: top;\n    }\n\n    .dataframe thead th {\n        text-align: right;\n    }\n</style>\n<table border=\"1\" class=\"dataframe\">\n  <thead>\n    <tr style=\"text-align: right;\">\n      <th></th>\n      <th>pclass</th>\n      <th>survived</th>\n      <th>name</th>\n      <th>sex</th>\n      <th>age</th>\n      <th>sibsp</th>\n      <th>parch</th>\n      <th>ticket</th>\n      <th>fare</th>\n      <th>cabin</th>\n      <th>embarked</th>\n      <th>boat</th>\n      <th>body</th>\n      <th>home.dest</th>\n    </tr>\n  </thead>\n  <tbody>\n    <tr>\n      <th>0</th>\n      <td>1</td>\n      <td>1</td>\n      <td>Allen, Miss. Elisabeth Walton</td>\n      <td>female</td>\n      <td>29.0000</td>\n      <td>0</td>\n      <td>0</td>\n      <td>24160</td>\n      <td>211.3375</td>\n      <td>B5</td>\n      <td>S</td>\n      <td>2</td>\n      <td>NaN</td>\n      <td>St Louis, MO</td>\n    </tr>\n    <tr>\n      <th>1</th>\n      <td>1</td>\n      <td>1</td>\n      <td>Allison, Master. Hudson Trevor</td>\n      <td>male</td>\n      <td>0.9167</td>\n      <td>1</td>\n      <td>2</td>\n      <td>113781</td>\n      <td>151.5500</td>\n      <td>C22 C26</td>\n      <td>S</td>\n      <td>11</td>\n      <td>NaN</td>\n      <td>Montreal, PQ / Chesterville, ON</td>\n    </tr>\n    <tr>\n      <th>2</th>\n      <td>1</td>\n      <td>0</td>\n      <td>Allison, Miss. Helen Loraine</td>\n      <td>female</td>\n      <td>2.0000</td>\n      <td>1</td>\n      <td>2</td>\n      <td>113781</td>\n      <td>151.5500</td>\n      <td>C22 C26</td>\n      <td>S</td>\n      <td>NaN</td>\n      <td>NaN</td>\n      <td>Montreal, PQ / Chesterville, ON</td>\n    </tr>\n    <tr>\n      <th>3</th>\n      <td>1</td>\n      <td>0</td>\n      <td>Allison, Mr. Hudson Joshua Creighton</td>\n      <td>male</td>\n      <td>30.0000</td>\n      <td>1</td>\n      <td>2</td>\n      <td>113781</td>\n      <td>151.5500</td>\n      <td>C22 C26</td>\n      <td>S</td>\n      <td>NaN</td>\n      <td>135.0</td>\n      <td>Montreal, PQ / Chesterville, ON</td>\n    </tr>\n    <tr>\n      <th>4</th>\n      <td>1</td>\n      <td>0</td>\n      <td>Allison, Mrs. Hudson J C (Bessie Waldo Daniels)</td>\n      <td>female</td>\n      <td>25.0000</td>\n      <td>1</td>\n      <td>2</td>\n      <td>113781</td>\n      <td>151.5500</td>\n      <td>C22 C26</td>\n      <td>S</td>\n      <td>NaN</td>\n      <td>NaN</td>\n      <td>Montreal, PQ / Chesterville, ON</td>\n    </tr>\n  </tbody>\n</table>\n</div>",
            "text/plain": "   pclass  survived                                             name     sex  \\\n0       1         1                    Allen, Miss. Elisabeth Walton  female   \n1       1         1                   Allison, Master. Hudson Trevor    male   \n2       1         0                     Allison, Miss. Helen Loraine  female   \n3       1         0             Allison, Mr. Hudson Joshua Creighton    male   \n4       1         0  Allison, Mrs. Hudson J C (Bessie Waldo Daniels)  female   \n\n       age  sibsp  parch  ticket      fare    cabin embarked boat   body  \\\n0  29.0000      0      0   24160  211.3375       B5        S    2    NaN   \n1   0.9167      1      2  113781  151.5500  C22 C26        S   11    NaN   \n2   2.0000      1      2  113781  151.5500  C22 C26        S  NaN    NaN   \n3  30.0000      1      2  113781  151.5500  C22 C26        S  NaN  135.0   \n4  25.0000      1      2  113781  151.5500  C22 C26        S  NaN    NaN   \n\n                         home.dest  \n0                     St Louis, MO  \n1  Montreal, PQ / Chesterville, ON  \n2  Montreal, PQ / Chesterville, ON  \n3  Montreal, PQ / Chesterville, ON  \n4  Montreal, PQ / Chesterville, ON  "
          },
          "metadata": {}
        }
      ]
    },
    {
      "metadata": {
        "trusted": true
      },
      "cell_type": "code",
      "source": "newdata=data\ndef number_relatives(x,y):\n    return x+y\ndef sex_to_number(x):\n    if x == 'female':\n        return 1\n    if x == 'male':\n        return 0\nnewdata['sexnum']=data['sex'].apply(sex_to_number)\nnewdata['onboard.relatives']=number_relatives(data['sibsp'],data['parch'])\nnewdata.head()",
      "execution_count": 2,
      "outputs": [
        {
          "output_type": "execute_result",
          "execution_count": 2,
          "data": {
            "text/html": "<div>\n<style scoped>\n    .dataframe tbody tr th:only-of-type {\n        vertical-align: middle;\n    }\n\n    .dataframe tbody tr th {\n        vertical-align: top;\n    }\n\n    .dataframe thead th {\n        text-align: right;\n    }\n</style>\n<table border=\"1\" class=\"dataframe\">\n  <thead>\n    <tr style=\"text-align: right;\">\n      <th></th>\n      <th>pclass</th>\n      <th>survived</th>\n      <th>name</th>\n      <th>sex</th>\n      <th>age</th>\n      <th>sibsp</th>\n      <th>parch</th>\n      <th>ticket</th>\n      <th>fare</th>\n      <th>cabin</th>\n      <th>embarked</th>\n      <th>boat</th>\n      <th>body</th>\n      <th>home.dest</th>\n      <th>sexnum</th>\n      <th>onboard.relatives</th>\n    </tr>\n  </thead>\n  <tbody>\n    <tr>\n      <th>0</th>\n      <td>1</td>\n      <td>1</td>\n      <td>Allen, Miss. Elisabeth Walton</td>\n      <td>female</td>\n      <td>29.0000</td>\n      <td>0</td>\n      <td>0</td>\n      <td>24160</td>\n      <td>211.3375</td>\n      <td>B5</td>\n      <td>S</td>\n      <td>2</td>\n      <td>NaN</td>\n      <td>St Louis, MO</td>\n      <td>1</td>\n      <td>0</td>\n    </tr>\n    <tr>\n      <th>1</th>\n      <td>1</td>\n      <td>1</td>\n      <td>Allison, Master. Hudson Trevor</td>\n      <td>male</td>\n      <td>0.9167</td>\n      <td>1</td>\n      <td>2</td>\n      <td>113781</td>\n      <td>151.5500</td>\n      <td>C22 C26</td>\n      <td>S</td>\n      <td>11</td>\n      <td>NaN</td>\n      <td>Montreal, PQ / Chesterville, ON</td>\n      <td>0</td>\n      <td>3</td>\n    </tr>\n    <tr>\n      <th>2</th>\n      <td>1</td>\n      <td>0</td>\n      <td>Allison, Miss. Helen Loraine</td>\n      <td>female</td>\n      <td>2.0000</td>\n      <td>1</td>\n      <td>2</td>\n      <td>113781</td>\n      <td>151.5500</td>\n      <td>C22 C26</td>\n      <td>S</td>\n      <td>NaN</td>\n      <td>NaN</td>\n      <td>Montreal, PQ / Chesterville, ON</td>\n      <td>1</td>\n      <td>3</td>\n    </tr>\n    <tr>\n      <th>3</th>\n      <td>1</td>\n      <td>0</td>\n      <td>Allison, Mr. Hudson Joshua Creighton</td>\n      <td>male</td>\n      <td>30.0000</td>\n      <td>1</td>\n      <td>2</td>\n      <td>113781</td>\n      <td>151.5500</td>\n      <td>C22 C26</td>\n      <td>S</td>\n      <td>NaN</td>\n      <td>135.0</td>\n      <td>Montreal, PQ / Chesterville, ON</td>\n      <td>0</td>\n      <td>3</td>\n    </tr>\n    <tr>\n      <th>4</th>\n      <td>1</td>\n      <td>0</td>\n      <td>Allison, Mrs. Hudson J C (Bessie Waldo Daniels)</td>\n      <td>female</td>\n      <td>25.0000</td>\n      <td>1</td>\n      <td>2</td>\n      <td>113781</td>\n      <td>151.5500</td>\n      <td>C22 C26</td>\n      <td>S</td>\n      <td>NaN</td>\n      <td>NaN</td>\n      <td>Montreal, PQ / Chesterville, ON</td>\n      <td>1</td>\n      <td>3</td>\n    </tr>\n  </tbody>\n</table>\n</div>",
            "text/plain": "   pclass  survived                                             name     sex  \\\n0       1         1                    Allen, Miss. Elisabeth Walton  female   \n1       1         1                   Allison, Master. Hudson Trevor    male   \n2       1         0                     Allison, Miss. Helen Loraine  female   \n3       1         0             Allison, Mr. Hudson Joshua Creighton    male   \n4       1         0  Allison, Mrs. Hudson J C (Bessie Waldo Daniels)  female   \n\n       age  sibsp  parch  ticket      fare    cabin embarked boat   body  \\\n0  29.0000      0      0   24160  211.3375       B5        S    2    NaN   \n1   0.9167      1      2  113781  151.5500  C22 C26        S   11    NaN   \n2   2.0000      1      2  113781  151.5500  C22 C26        S  NaN    NaN   \n3  30.0000      1      2  113781  151.5500  C22 C26        S  NaN  135.0   \n4  25.0000      1      2  113781  151.5500  C22 C26        S  NaN    NaN   \n\n                         home.dest  sexnum  onboard.relatives  \n0                     St Louis, MO       1                  0  \n1  Montreal, PQ / Chesterville, ON       0                  3  \n2  Montreal, PQ / Chesterville, ON       1                  3  \n3  Montreal, PQ / Chesterville, ON       0                  3  \n4  Montreal, PQ / Chesterville, ON       1                  3  "
          },
          "metadata": {}
        }
      ]
    },
    {
      "metadata": {
        "trusted": true
      },
      "cell_type": "code",
      "source": "# getting an overview of our data\nprint(\"Our data has {0} rows and {1} columns\".format(data.shape[0], data.shape[1]))\n# checking for missing values\nprint(\"Are there missing values? {}\".format(data.isnull().any().any()))\ndata.describe()",
      "execution_count": 3,
      "outputs": [
        {
          "output_type": "stream",
          "text": "Our data has 1309 rows and 16 columns\nAre there missing values? True\n",
          "name": "stdout"
        },
        {
          "output_type": "execute_result",
          "execution_count": 3,
          "data": {
            "text/html": "<div>\n<style scoped>\n    .dataframe tbody tr th:only-of-type {\n        vertical-align: middle;\n    }\n\n    .dataframe tbody tr th {\n        vertical-align: top;\n    }\n\n    .dataframe thead th {\n        text-align: right;\n    }\n</style>\n<table border=\"1\" class=\"dataframe\">\n  <thead>\n    <tr style=\"text-align: right;\">\n      <th></th>\n      <th>pclass</th>\n      <th>survived</th>\n      <th>age</th>\n      <th>sibsp</th>\n      <th>parch</th>\n      <th>fare</th>\n      <th>body</th>\n      <th>sexnum</th>\n      <th>onboard.relatives</th>\n    </tr>\n  </thead>\n  <tbody>\n    <tr>\n      <th>count</th>\n      <td>1309.000000</td>\n      <td>1309.000000</td>\n      <td>1046.000000</td>\n      <td>1309.000000</td>\n      <td>1309.000000</td>\n      <td>1308.000000</td>\n      <td>121.000000</td>\n      <td>1309.000000</td>\n      <td>1309.000000</td>\n    </tr>\n    <tr>\n      <th>mean</th>\n      <td>2.294882</td>\n      <td>0.381971</td>\n      <td>29.881135</td>\n      <td>0.498854</td>\n      <td>0.385027</td>\n      <td>33.295479</td>\n      <td>160.809917</td>\n      <td>0.355997</td>\n      <td>0.883881</td>\n    </tr>\n    <tr>\n      <th>std</th>\n      <td>0.837836</td>\n      <td>0.486055</td>\n      <td>14.413500</td>\n      <td>1.041658</td>\n      <td>0.865560</td>\n      <td>51.758668</td>\n      <td>97.696922</td>\n      <td>0.478997</td>\n      <td>1.583639</td>\n    </tr>\n    <tr>\n      <th>min</th>\n      <td>1.000000</td>\n      <td>0.000000</td>\n      <td>0.166700</td>\n      <td>0.000000</td>\n      <td>0.000000</td>\n      <td>0.000000</td>\n      <td>1.000000</td>\n      <td>0.000000</td>\n      <td>0.000000</td>\n    </tr>\n    <tr>\n      <th>25%</th>\n      <td>2.000000</td>\n      <td>0.000000</td>\n      <td>21.000000</td>\n      <td>0.000000</td>\n      <td>0.000000</td>\n      <td>7.895800</td>\n      <td>72.000000</td>\n      <td>0.000000</td>\n      <td>0.000000</td>\n    </tr>\n    <tr>\n      <th>50%</th>\n      <td>3.000000</td>\n      <td>0.000000</td>\n      <td>28.000000</td>\n      <td>0.000000</td>\n      <td>0.000000</td>\n      <td>14.454200</td>\n      <td>155.000000</td>\n      <td>0.000000</td>\n      <td>0.000000</td>\n    </tr>\n    <tr>\n      <th>75%</th>\n      <td>3.000000</td>\n      <td>1.000000</td>\n      <td>39.000000</td>\n      <td>1.000000</td>\n      <td>0.000000</td>\n      <td>31.275000</td>\n      <td>256.000000</td>\n      <td>1.000000</td>\n      <td>1.000000</td>\n    </tr>\n    <tr>\n      <th>max</th>\n      <td>3.000000</td>\n      <td>1.000000</td>\n      <td>80.000000</td>\n      <td>8.000000</td>\n      <td>9.000000</td>\n      <td>512.329200</td>\n      <td>328.000000</td>\n      <td>1.000000</td>\n      <td>10.000000</td>\n    </tr>\n  </tbody>\n</table>\n</div>",
            "text/plain": "            pclass     survived          age        sibsp        parch  \\\ncount  1309.000000  1309.000000  1046.000000  1309.000000  1309.000000   \nmean      2.294882     0.381971    29.881135     0.498854     0.385027   \nstd       0.837836     0.486055    14.413500     1.041658     0.865560   \nmin       1.000000     0.000000     0.166700     0.000000     0.000000   \n25%       2.000000     0.000000    21.000000     0.000000     0.000000   \n50%       3.000000     0.000000    28.000000     0.000000     0.000000   \n75%       3.000000     1.000000    39.000000     1.000000     0.000000   \nmax       3.000000     1.000000    80.000000     8.000000     9.000000   \n\n              fare        body       sexnum  onboard.relatives  \ncount  1308.000000  121.000000  1309.000000        1309.000000  \nmean     33.295479  160.809917     0.355997           0.883881  \nstd      51.758668   97.696922     0.478997           1.583639  \nmin       0.000000    1.000000     0.000000           0.000000  \n25%       7.895800   72.000000     0.000000           0.000000  \n50%      14.454200  155.000000     0.000000           0.000000  \n75%      31.275000  256.000000     1.000000           1.000000  \nmax     512.329200  328.000000     1.000000          10.000000  "
          },
          "metadata": {}
        }
      ]
    },
    {
      "metadata": {},
      "cell_type": "markdown",
      "source": "I like to take a general look at the data before I really get started. \nThe first thing I notice is that there 263 missing values in the age field.\nThe second thing I notice is that very few bodies were recovered."
    },
    {
      "metadata": {
        "trusted": true
      },
      "cell_type": "code",
      "source": "data.corr()",
      "execution_count": 4,
      "outputs": [
        {
          "output_type": "execute_result",
          "execution_count": 4,
          "data": {
            "text/html": "<div>\n<style scoped>\n    .dataframe tbody tr th:only-of-type {\n        vertical-align: middle;\n    }\n\n    .dataframe tbody tr th {\n        vertical-align: top;\n    }\n\n    .dataframe thead th {\n        text-align: right;\n    }\n</style>\n<table border=\"1\" class=\"dataframe\">\n  <thead>\n    <tr style=\"text-align: right;\">\n      <th></th>\n      <th>pclass</th>\n      <th>survived</th>\n      <th>age</th>\n      <th>sibsp</th>\n      <th>parch</th>\n      <th>fare</th>\n      <th>body</th>\n      <th>sexnum</th>\n      <th>onboard.relatives</th>\n    </tr>\n  </thead>\n  <tbody>\n    <tr>\n      <th>pclass</th>\n      <td>1.000000</td>\n      <td>-0.312469</td>\n      <td>-0.408106</td>\n      <td>0.060832</td>\n      <td>0.018322</td>\n      <td>-0.558629</td>\n      <td>-0.034642</td>\n      <td>-0.124617</td>\n      <td>0.050027</td>\n    </tr>\n    <tr>\n      <th>survived</th>\n      <td>-0.312469</td>\n      <td>1.000000</td>\n      <td>-0.055513</td>\n      <td>-0.027825</td>\n      <td>0.082660</td>\n      <td>0.244265</td>\n      <td>NaN</td>\n      <td>0.528693</td>\n      <td>0.026876</td>\n    </tr>\n    <tr>\n      <th>age</th>\n      <td>-0.408106</td>\n      <td>-0.055513</td>\n      <td>1.000000</td>\n      <td>-0.243699</td>\n      <td>-0.150917</td>\n      <td>0.178739</td>\n      <td>0.058809</td>\n      <td>-0.063646</td>\n      <td>-0.240230</td>\n    </tr>\n    <tr>\n      <th>sibsp</th>\n      <td>0.060832</td>\n      <td>-0.027825</td>\n      <td>-0.243699</td>\n      <td>1.000000</td>\n      <td>0.373587</td>\n      <td>0.160238</td>\n      <td>-0.099961</td>\n      <td>0.109609</td>\n      <td>0.861952</td>\n    </tr>\n    <tr>\n      <th>parch</th>\n      <td>0.018322</td>\n      <td>0.082660</td>\n      <td>-0.150917</td>\n      <td>0.373587</td>\n      <td>1.000000</td>\n      <td>0.221539</td>\n      <td>0.051099</td>\n      <td>0.213125</td>\n      <td>0.792296</td>\n    </tr>\n    <tr>\n      <th>fare</th>\n      <td>-0.558629</td>\n      <td>0.244265</td>\n      <td>0.178739</td>\n      <td>0.160238</td>\n      <td>0.221539</td>\n      <td>1.000000</td>\n      <td>-0.043110</td>\n      <td>0.185523</td>\n      <td>0.226492</td>\n    </tr>\n    <tr>\n      <th>body</th>\n      <td>-0.034642</td>\n      <td>NaN</td>\n      <td>0.058809</td>\n      <td>-0.099961</td>\n      <td>0.051099</td>\n      <td>-0.043110</td>\n      <td>1.000000</td>\n      <td>0.015903</td>\n      <td>-0.033628</td>\n    </tr>\n    <tr>\n      <th>sexnum</th>\n      <td>-0.124617</td>\n      <td>0.528693</td>\n      <td>-0.063646</td>\n      <td>0.109609</td>\n      <td>0.213125</td>\n      <td>0.185523</td>\n      <td>0.015903</td>\n      <td>1.000000</td>\n      <td>0.188583</td>\n    </tr>\n    <tr>\n      <th>onboard.relatives</th>\n      <td>0.050027</td>\n      <td>0.026876</td>\n      <td>-0.240230</td>\n      <td>0.861952</td>\n      <td>0.792296</td>\n      <td>0.226492</td>\n      <td>-0.033628</td>\n      <td>0.188583</td>\n      <td>1.000000</td>\n    </tr>\n  </tbody>\n</table>\n</div>",
            "text/plain": "                     pclass  survived       age     sibsp     parch      fare  \\\npclass             1.000000 -0.312469 -0.408106  0.060832  0.018322 -0.558629   \nsurvived          -0.312469  1.000000 -0.055513 -0.027825  0.082660  0.244265   \nage               -0.408106 -0.055513  1.000000 -0.243699 -0.150917  0.178739   \nsibsp              0.060832 -0.027825 -0.243699  1.000000  0.373587  0.160238   \nparch              0.018322  0.082660 -0.150917  0.373587  1.000000  0.221539   \nfare              -0.558629  0.244265  0.178739  0.160238  0.221539  1.000000   \nbody              -0.034642       NaN  0.058809 -0.099961  0.051099 -0.043110   \nsexnum            -0.124617  0.528693 -0.063646  0.109609  0.213125  0.185523   \nonboard.relatives  0.050027  0.026876 -0.240230  0.861952  0.792296  0.226492   \n\n                       body    sexnum  onboard.relatives  \npclass            -0.034642 -0.124617           0.050027  \nsurvived                NaN  0.528693           0.026876  \nage                0.058809 -0.063646          -0.240230  \nsibsp             -0.099961  0.109609           0.861952  \nparch              0.051099  0.213125           0.792296  \nfare              -0.043110  0.185523           0.226492  \nbody               1.000000  0.015903          -0.033628  \nsexnum             0.015903  1.000000           0.188583  \nonboard.relatives -0.033628  0.188583           1.000000  "
          },
          "metadata": {}
        }
      ]
    },
    {
      "metadata": {},
      "cell_type": "markdown",
      "source": "The values with the strongest correlation with Survival are passenger class, sex, age, and fare."
    },
    {
      "metadata": {
        "trusted": true
      },
      "cell_type": "code",
      "source": "result = sm.ols(formula='survived ~ pclass + sexnum + age + fare', data=data).fit()\nresult.summary()",
      "execution_count": 5,
      "outputs": [
        {
          "output_type": "execute_result",
          "execution_count": 5,
          "data": {
            "text/html": "<table class=\"simpletable\">\n<caption>OLS Regression Results</caption>\n<tr>\n  <th>Dep. Variable:</th>        <td>survived</td>     <th>  R-squared:         </th> <td>   0.368</td> \n</tr>\n<tr>\n  <th>Model:</th>                   <td>OLS</td>       <th>  Adj. R-squared:    </th> <td>   0.366</td> \n</tr>\n<tr>\n  <th>Method:</th>             <td>Least Squares</td>  <th>  F-statistic:       </th> <td>   151.6</td> \n</tr>\n<tr>\n  <th>Date:</th>             <td>Fri, 12 Oct 2018</td> <th>  Prob (F-statistic):</th> <td>3.54e-102</td>\n</tr>\n<tr>\n  <th>Time:</th>                 <td>20:24:57</td>     <th>  Log-Likelihood:    </th> <td> -500.69</td> \n</tr>\n<tr>\n  <th>No. Observations:</th>      <td>  1045</td>      <th>  AIC:               </th> <td>   1011.</td> \n</tr>\n<tr>\n  <th>Df Residuals:</th>          <td>  1040</td>      <th>  BIC:               </th> <td>   1036.</td> \n</tr>\n<tr>\n  <th>Df Model:</th>              <td>     4</td>      <th>                     </th>     <td> </td>    \n</tr>\n<tr>\n  <th>Covariance Type:</th>      <td>nonrobust</td>    <th>                     </th>     <td> </td>    \n</tr>\n</table>\n<table class=\"simpletable\">\n<tr>\n      <td></td>         <th>coef</th>     <th>std err</th>      <th>t</th>      <th>P>|t|</th>  <th>[0.025</th>    <th>0.975]</th>  \n</tr>\n<tr>\n  <th>Intercept</th> <td>    0.7717</td> <td>    0.066</td> <td>   11.693</td> <td> 0.000</td> <td>    0.642</td> <td>    0.901</td>\n</tr>\n<tr>\n  <th>pclass</th>    <td>   -0.1786</td> <td>    0.019</td> <td>   -9.415</td> <td> 0.000</td> <td>   -0.216</td> <td>   -0.141</td>\n</tr>\n<tr>\n  <th>sexnum</th>    <td>    0.4902</td> <td>    0.026</td> <td>   19.024</td> <td> 0.000</td> <td>    0.440</td> <td>    0.541</td>\n</tr>\n<tr>\n  <th>age</th>       <td>   -0.0052</td> <td>    0.001</td> <td>   -5.561</td> <td> 0.000</td> <td>   -0.007</td> <td>   -0.003</td>\n</tr>\n<tr>\n  <th>fare</th>      <td>    0.0001</td> <td>    0.000</td> <td>    0.431</td> <td> 0.667</td> <td>   -0.000</td> <td>    0.001</td>\n</tr>\n</table>\n<table class=\"simpletable\">\n<tr>\n  <th>Omnibus:</th>       <td>36.829</td> <th>  Durbin-Watson:     </th> <td>   1.891</td>\n</tr>\n<tr>\n  <th>Prob(Omnibus):</th> <td> 0.000</td> <th>  Jarque-Bera (JB):  </th> <td>  40.210</td>\n</tr>\n<tr>\n  <th>Skew:</th>          <td> 0.480</td> <th>  Prob(JB):          </th> <td>1.86e-09</td>\n</tr>\n<tr>\n  <th>Kurtosis:</th>      <td> 2.965</td> <th>  Cond. No.          </th> <td>    394.</td>\n</tr>\n</table>",
            "text/plain": "<class 'statsmodels.iolib.summary.Summary'>\n\"\"\"\n                            OLS Regression Results                            \n==============================================================================\nDep. Variable:               survived   R-squared:                       0.368\nModel:                            OLS   Adj. R-squared:                  0.366\nMethod:                 Least Squares   F-statistic:                     151.6\nDate:                Fri, 12 Oct 2018   Prob (F-statistic):          3.54e-102\nTime:                        20:24:57   Log-Likelihood:                -500.69\nNo. Observations:                1045   AIC:                             1011.\nDf Residuals:                    1040   BIC:                             1036.\nDf Model:                           4                                         \nCovariance Type:            nonrobust                                         \n==============================================================================\n                 coef    std err          t      P>|t|      [0.025      0.975]\n------------------------------------------------------------------------------\nIntercept      0.7717      0.066     11.693      0.000       0.642       0.901\npclass        -0.1786      0.019     -9.415      0.000      -0.216      -0.141\nsexnum         0.4902      0.026     19.024      0.000       0.440       0.541\nage           -0.0052      0.001     -5.561      0.000      -0.007      -0.003\nfare           0.0001      0.000      0.431      0.667      -0.000       0.001\n==============================================================================\nOmnibus:                       36.829   Durbin-Watson:                   1.891\nProb(Omnibus):                  0.000   Jarque-Bera (JB):               40.210\nSkew:                           0.480   Prob(JB):                     1.86e-09\nKurtosis:                       2.965   Cond. No.                         394.\n==============================================================================\n\nWarnings:\n[1] Standard Errors assume that the covariance matrix of the errors is correctly specified.\n\"\"\""
          },
          "metadata": {}
        }
      ]
    },
    {
      "metadata": {},
      "cell_type": "markdown",
      "source": "The P value for fare is too high so I will try the regression without it."
    },
    {
      "metadata": {
        "trusted": true
      },
      "cell_type": "code",
      "source": "result = sm.ols(formula='survived ~ pclass + sexnum + age', data=data).fit()\nresult.summary()",
      "execution_count": 6,
      "outputs": [
        {
          "output_type": "execute_result",
          "execution_count": 6,
          "data": {
            "text/html": "<table class=\"simpletable\">\n<caption>OLS Regression Results</caption>\n<tr>\n  <th>Dep. Variable:</th>        <td>survived</td>     <th>  R-squared:         </th> <td>   0.369</td> \n</tr>\n<tr>\n  <th>Model:</th>                   <td>OLS</td>       <th>  Adj. R-squared:    </th> <td>   0.367</td> \n</tr>\n<tr>\n  <th>Method:</th>             <td>Least Squares</td>  <th>  F-statistic:       </th> <td>   202.8</td> \n</tr>\n<tr>\n  <th>Date:</th>             <td>Fri, 12 Oct 2018</td> <th>  Prob (F-statistic):</th> <td>1.44e-103</td>\n</tr>\n<tr>\n  <th>Time:</th>                 <td>20:25:10</td>     <th>  Log-Likelihood:    </th> <td> -500.78</td> \n</tr>\n<tr>\n  <th>No. Observations:</th>      <td>  1046</td>      <th>  AIC:               </th> <td>   1010.</td> \n</tr>\n<tr>\n  <th>Df Residuals:</th>          <td>  1042</td>      <th>  BIC:               </th> <td>   1029.</td> \n</tr>\n<tr>\n  <th>Df Model:</th>              <td>     3</td>      <th>                     </th>     <td> </td>    \n</tr>\n<tr>\n  <th>Covariance Type:</th>      <td>nonrobust</td>    <th>                     </th>     <td> </td>    \n</tr>\n</table>\n<table class=\"simpletable\">\n<tr>\n      <td></td>         <th>coef</th>     <th>std err</th>      <th>t</th>      <th>P>|t|</th>  <th>[0.025</th>    <th>0.975]</th>  \n</tr>\n<tr>\n  <th>Intercept</th> <td>    0.7848</td> <td>    0.057</td> <td>   13.688</td> <td> 0.000</td> <td>    0.672</td> <td>    0.897</td>\n</tr>\n<tr>\n  <th>pclass</th>    <td>   -0.1828</td> <td>    0.016</td> <td>  -11.395</td> <td> 0.000</td> <td>   -0.214</td> <td>   -0.151</td>\n</tr>\n<tr>\n  <th>sexnum</th>    <td>    0.4915</td> <td>    0.026</td> <td>   19.236</td> <td> 0.000</td> <td>    0.441</td> <td>    0.542</td>\n</tr>\n<tr>\n  <th>age</th>       <td>   -0.0052</td> <td>    0.001</td> <td>   -5.600</td> <td> 0.000</td> <td>   -0.007</td> <td>   -0.003</td>\n</tr>\n</table>\n<table class=\"simpletable\">\n<tr>\n  <th>Omnibus:</th>       <td>36.642</td> <th>  Durbin-Watson:     </th> <td>   1.894</td>\n</tr>\n<tr>\n  <th>Prob(Omnibus):</th> <td> 0.000</td> <th>  Jarque-Bera (JB):  </th> <td>  39.979</td>\n</tr>\n<tr>\n  <th>Skew:</th>          <td> 0.479</td> <th>  Prob(JB):          </th> <td>2.08e-09</td>\n</tr>\n<tr>\n  <th>Kurtosis:</th>      <td> 2.968</td> <th>  Cond. No.          </th> <td>    164.</td>\n</tr>\n</table>",
            "text/plain": "<class 'statsmodels.iolib.summary.Summary'>\n\"\"\"\n                            OLS Regression Results                            \n==============================================================================\nDep. Variable:               survived   R-squared:                       0.369\nModel:                            OLS   Adj. R-squared:                  0.367\nMethod:                 Least Squares   F-statistic:                     202.8\nDate:                Fri, 12 Oct 2018   Prob (F-statistic):          1.44e-103\nTime:                        20:25:10   Log-Likelihood:                -500.78\nNo. Observations:                1046   AIC:                             1010.\nDf Residuals:                    1042   BIC:                             1029.\nDf Model:                           3                                         \nCovariance Type:            nonrobust                                         \n==============================================================================\n                 coef    std err          t      P>|t|      [0.025      0.975]\n------------------------------------------------------------------------------\nIntercept      0.7848      0.057     13.688      0.000       0.672       0.897\npclass        -0.1828      0.016    -11.395      0.000      -0.214      -0.151\nsexnum         0.4915      0.026     19.236      0.000       0.441       0.542\nage           -0.0052      0.001     -5.600      0.000      -0.007      -0.003\n==============================================================================\nOmnibus:                       36.642   Durbin-Watson:                   1.894\nProb(Omnibus):                  0.000   Jarque-Bera (JB):               39.979\nSkew:                           0.479   Prob(JB):                     2.08e-09\nKurtosis:                       2.968   Cond. No.                         164.\n==============================================================================\n\nWarnings:\n[1] Standard Errors assume that the covariance matrix of the errors is correctly specified.\n\"\"\""
          },
          "metadata": {}
        }
      ]
    },
    {
      "metadata": {},
      "cell_type": "markdown",
      "source": "The adjusted r-square values is very, very slightly better and all of the P values are 0."
    },
    {
      "metadata": {
        "trusted": true,
        "scrolled": true
      },
      "cell_type": "code",
      "source": "pd.pivot_table(data, index= 'home.dest', values= \"survived\", aggfunc='count', fill_value= 0,\n              margins = True, margins_name= 'Total Survivors')",
      "execution_count": 7,
      "outputs": [
        {
          "output_type": "execute_result",
          "execution_count": 7,
          "data": {
            "text/html": "<div>\n<style scoped>\n    .dataframe tbody tr th:only-of-type {\n        vertical-align: middle;\n    }\n\n    .dataframe tbody tr th {\n        vertical-align: top;\n    }\n\n    .dataframe thead th {\n        text-align: right;\n    }\n</style>\n<table border=\"1\" class=\"dataframe\">\n  <thead>\n    <tr style=\"text-align: right;\">\n      <th></th>\n      <th>survived</th>\n    </tr>\n    <tr>\n      <th>home.dest</th>\n      <th></th>\n    </tr>\n  </thead>\n  <tbody>\n    <tr>\n      <th>?Havana, Cuba</th>\n      <td>1</td>\n    </tr>\n    <tr>\n      <th>Aberdeen / Portland, OR</th>\n      <td>2</td>\n    </tr>\n    <tr>\n      <th>Albany, NY</th>\n      <td>1</td>\n    </tr>\n    <tr>\n      <th>Altdorf, Switzerland</th>\n      <td>2</td>\n    </tr>\n    <tr>\n      <th>Amenia, ND</th>\n      <td>2</td>\n    </tr>\n    <tr>\n      <th>Antwerp, Belgium / Stanton, OH</th>\n      <td>1</td>\n    </tr>\n    <tr>\n      <th>Argentina</th>\n      <td>1</td>\n    </tr>\n    <tr>\n      <th>Asarum, Sweden Brooklyn, NY</th>\n      <td>1</td>\n    </tr>\n    <tr>\n      <th>Ascot, Berkshire / Rochester, NY</th>\n      <td>1</td>\n    </tr>\n    <tr>\n      <th>Auburn, NY</th>\n      <td>1</td>\n    </tr>\n    <tr>\n      <th>Aughnacliff, Co Longford, Ireland New York, NY</th>\n      <td>1</td>\n    </tr>\n    <tr>\n      <th>Australia Fingal, ND</th>\n      <td>1</td>\n    </tr>\n    <tr>\n      <th>Austria</th>\n      <td>4</td>\n    </tr>\n    <tr>\n      <th>Austria Niagara Falls, NY</th>\n      <td>1</td>\n    </tr>\n    <tr>\n      <th>Austria-Hungary</th>\n      <td>1</td>\n    </tr>\n    <tr>\n      <th>Austria-Hungary / Germantown, Philadelphia, PA</th>\n      <td>1</td>\n    </tr>\n    <tr>\n      <th>Bangkok, Thailand / Roseville, IL</th>\n      <td>3</td>\n    </tr>\n    <tr>\n      <th>Barcelona, Spain / Havana, Cuba</th>\n      <td>2</td>\n    </tr>\n    <tr>\n      <th>Barre, Co Washington, VT</th>\n      <td>1</td>\n    </tr>\n    <tr>\n      <th>Basel, Switzerland</th>\n      <td>2</td>\n    </tr>\n    <tr>\n      <th>Bath, England / Massachusetts</th>\n      <td>1</td>\n    </tr>\n    <tr>\n      <th>Bayside, Queens, NY</th>\n      <td>1</td>\n    </tr>\n    <tr>\n      <th>Belfast</th>\n      <td>7</td>\n    </tr>\n    <tr>\n      <th>Belfast, NI</th>\n      <td>1</td>\n    </tr>\n    <tr>\n      <th>Belgium  Montreal, PQ</th>\n      <td>1</td>\n    </tr>\n    <tr>\n      <th>Belgium Detroit, MI</th>\n      <td>1</td>\n    </tr>\n    <tr>\n      <th>Belmont, MA</th>\n      <td>1</td>\n    </tr>\n    <tr>\n      <th>Bennington, VT</th>\n      <td>1</td>\n    </tr>\n    <tr>\n      <th>Bergen, Norway</th>\n      <td>1</td>\n    </tr>\n    <tr>\n      <th>Berne, Switzerland / Central City, IA</th>\n      <td>1</td>\n    </tr>\n    <tr>\n      <th>...</th>\n      <td>...</td>\n    </tr>\n    <tr>\n      <th>Tuxedo Park, NY</th>\n      <td>3</td>\n    </tr>\n    <tr>\n      <th>Union Hill, NJ</th>\n      <td>1</td>\n    </tr>\n    <tr>\n      <th>Upper Burma, India Pittsburgh, PA</th>\n      <td>1</td>\n    </tr>\n    <tr>\n      <th>Vadsbro, Sweden Ministee, MI</th>\n      <td>1</td>\n    </tr>\n    <tr>\n      <th>Vancouver, BC</th>\n      <td>2</td>\n    </tr>\n    <tr>\n      <th>Victoria, BC</th>\n      <td>1</td>\n    </tr>\n    <tr>\n      <th>Walthamstow, England</th>\n      <td>1</td>\n    </tr>\n    <tr>\n      <th>Warwick, England</th>\n      <td>2</td>\n    </tr>\n    <tr>\n      <th>Washington, DC</th>\n      <td>4</td>\n    </tr>\n    <tr>\n      <th>Waukegan, Chicago, IL</th>\n      <td>1</td>\n    </tr>\n    <tr>\n      <th>West Bromwich, England Pontiac, MI</th>\n      <td>3</td>\n    </tr>\n    <tr>\n      <th>West Hampstead, London / Neepawa, MB</th>\n      <td>3</td>\n    </tr>\n    <tr>\n      <th>West Haven, CT</th>\n      <td>2</td>\n    </tr>\n    <tr>\n      <th>West Hoboken, NJ</th>\n      <td>1</td>\n    </tr>\n    <tr>\n      <th>West Kensington, London</th>\n      <td>1</td>\n    </tr>\n    <tr>\n      <th>Westcliff-on-Sea, Essex</th>\n      <td>1</td>\n    </tr>\n    <tr>\n      <th>Weston-Super-Mare / Moose Jaw, SK</th>\n      <td>1</td>\n    </tr>\n    <tr>\n      <th>Weston-Super-Mare, Somerset</th>\n      <td>2</td>\n    </tr>\n    <tr>\n      <th>Wiltshire, England Niagara Falls, NY</th>\n      <td>8</td>\n    </tr>\n    <tr>\n      <th>Wimbledon Park, London / Hayling Island, Hants</th>\n      <td>1</td>\n    </tr>\n    <tr>\n      <th>Windsor, England New York, NY</th>\n      <td>1</td>\n    </tr>\n    <tr>\n      <th>Winnipeg, MB</th>\n      <td>8</td>\n    </tr>\n    <tr>\n      <th>Winnipeg, MN</th>\n      <td>1</td>\n    </tr>\n    <tr>\n      <th>Woodford County, KY</th>\n      <td>1</td>\n    </tr>\n    <tr>\n      <th>Worcester, England</th>\n      <td>1</td>\n    </tr>\n    <tr>\n      <th>Worcester, MA</th>\n      <td>2</td>\n    </tr>\n    <tr>\n      <th>Yoevil, England / Cottage Grove, OR</th>\n      <td>1</td>\n    </tr>\n    <tr>\n      <th>Youngstown, OH</th>\n      <td>4</td>\n    </tr>\n    <tr>\n      <th>Zurich, Switzerland</th>\n      <td>3</td>\n    </tr>\n    <tr>\n      <th>Total Survivors</th>\n      <td>745</td>\n    </tr>\n  </tbody>\n</table>\n<p>370 rows × 1 columns</p>\n</div>",
            "text/plain": "                                                survived\nhome.dest                                               \n?Havana, Cuba                                          1\nAberdeen / Portland, OR                                2\nAlbany, NY                                             1\nAltdorf, Switzerland                                   2\nAmenia, ND                                             2\nAntwerp, Belgium / Stanton, OH                         1\nArgentina                                              1\nAsarum, Sweden Brooklyn, NY                            1\nAscot, Berkshire / Rochester, NY                       1\nAuburn, NY                                             1\nAughnacliff, Co Longford, Ireland New York, NY         1\nAustralia Fingal, ND                                   1\nAustria                                                4\nAustria Niagara Falls, NY                              1\nAustria-Hungary                                        1\nAustria-Hungary / Germantown, Philadelphia, PA         1\nBangkok, Thailand / Roseville, IL                      3\nBarcelona, Spain / Havana, Cuba                        2\nBarre, Co Washington, VT                               1\nBasel, Switzerland                                     2\nBath, England / Massachusetts                          1\nBayside, Queens, NY                                    1\nBelfast                                                7\nBelfast, NI                                            1\nBelgium  Montreal, PQ                                  1\nBelgium Detroit, MI                                    1\nBelmont, MA                                            1\nBennington, VT                                         1\nBergen, Norway                                         1\nBerne, Switzerland / Central City, IA                  1\n...                                                  ...\nTuxedo Park, NY                                        3\nUnion Hill, NJ                                         1\nUpper Burma, India Pittsburgh, PA                      1\nVadsbro, Sweden Ministee, MI                           1\nVancouver, BC                                          2\nVictoria, BC                                           1\nWalthamstow, England                                   1\nWarwick, England                                       2\nWashington, DC                                         4\nWaukegan, Chicago, IL                                  1\nWest Bromwich, England Pontiac, MI                     3\nWest Hampstead, London / Neepawa, MB                   3\nWest Haven, CT                                         2\nWest Hoboken, NJ                                       1\nWest Kensington, London                                1\nWestcliff-on-Sea, Essex                                1\nWeston-Super-Mare / Moose Jaw, SK                      1\nWeston-Super-Mare, Somerset                            2\nWiltshire, England Niagara Falls, NY                   8\nWimbledon Park, London / Hayling Island, Hants         1\nWindsor, England New York, NY                          1\nWinnipeg, MB                                           8\nWinnipeg, MN                                           1\nWoodford County, KY                                    1\nWorcester, England                                     1\nWorcester, MA                                          2\nYoevil, England / Cottage Grove, OR                    1\nYoungstown, OH                                         4\nZurich, Switzerland                                    3\nTotal Survivors                                      745\n\n[370 rows x 1 columns]"
          },
          "metadata": {}
        }
      ]
    },
    {
      "metadata": {
        "trusted": true
      },
      "cell_type": "code",
      "source": "pd.pivot_table(data, index= ['pclass', 'sex'], values= \"survived\", aggfunc='sum', fill_value= 0,\n              margins = True, margins_name= 'Total Survivors')",
      "execution_count": 17,
      "outputs": [
        {
          "output_type": "execute_result",
          "execution_count": 17,
          "data": {
            "text/html": "<div>\n<style scoped>\n    .dataframe tbody tr th:only-of-type {\n        vertical-align: middle;\n    }\n\n    .dataframe tbody tr th {\n        vertical-align: top;\n    }\n\n    .dataframe thead th {\n        text-align: right;\n    }\n</style>\n<table border=\"1\" class=\"dataframe\">\n  <thead>\n    <tr style=\"text-align: right;\">\n      <th></th>\n      <th></th>\n      <th>survived</th>\n    </tr>\n    <tr>\n      <th>pclass</th>\n      <th>sex</th>\n      <th></th>\n    </tr>\n  </thead>\n  <tbody>\n    <tr>\n      <th rowspan=\"2\" valign=\"top\">1</th>\n      <th>female</th>\n      <td>139</td>\n    </tr>\n    <tr>\n      <th>male</th>\n      <td>61</td>\n    </tr>\n    <tr>\n      <th rowspan=\"2\" valign=\"top\">2</th>\n      <th>female</th>\n      <td>94</td>\n    </tr>\n    <tr>\n      <th>male</th>\n      <td>25</td>\n    </tr>\n    <tr>\n      <th rowspan=\"2\" valign=\"top\">3</th>\n      <th>female</th>\n      <td>106</td>\n    </tr>\n    <tr>\n      <th>male</th>\n      <td>75</td>\n    </tr>\n    <tr>\n      <th>Total Survivors</th>\n      <th></th>\n      <td>500</td>\n    </tr>\n  </tbody>\n</table>\n</div>",
            "text/plain": "                        survived\npclass          sex             \n1               female       139\n                male          61\n2               female        94\n                male          25\n3               female       106\n                male          75\nTotal Survivors              500"
          },
          "metadata": {}
        }
      ]
    },
    {
      "metadata": {},
      "cell_type": "markdown",
      "source": "Just looking at the number of survivors by passenger class and sex."
    },
    {
      "metadata": {
        "trusted": true
      },
      "cell_type": "code",
      "source": "pd.pivot_table(data, index= ['pclass', 'survived'], values= \"age\", aggfunc= [np.mean, np.median, min, max, np.std], fill_value= 0,\n              margins = True, margins_name= 'Total Survivors')",
      "execution_count": 13,
      "outputs": [
        {
          "output_type": "execute_result",
          "execution_count": 13,
          "data": {
            "text/html": "<div>\n<style scoped>\n    .dataframe tbody tr th:only-of-type {\n        vertical-align: middle;\n    }\n\n    .dataframe tbody tr th {\n        vertical-align: top;\n    }\n\n    .dataframe thead tr th {\n        text-align: left;\n    }\n\n    .dataframe thead tr:last-of-type th {\n        text-align: right;\n    }\n</style>\n<table border=\"1\" class=\"dataframe\">\n  <thead>\n    <tr>\n      <th></th>\n      <th></th>\n      <th>mean</th>\n      <th>median</th>\n      <th>min</th>\n      <th>max</th>\n      <th>std</th>\n    </tr>\n    <tr>\n      <th></th>\n      <th></th>\n      <th>age</th>\n      <th>age</th>\n      <th>age</th>\n      <th>age</th>\n      <th>age</th>\n    </tr>\n    <tr>\n      <th>pclass</th>\n      <th>survived</th>\n      <th></th>\n      <th></th>\n      <th></th>\n      <th></th>\n      <th></th>\n    </tr>\n  </thead>\n  <tbody>\n    <tr>\n      <th rowspan=\"2\" valign=\"top\">1</th>\n      <th>0</th>\n      <td>43.247573</td>\n      <td>45</td>\n      <td>2.0000</td>\n      <td>71</td>\n      <td>14.227299</td>\n    </tr>\n    <tr>\n      <th>1</th>\n      <td>36.833794</td>\n      <td>36</td>\n      <td>0.9167</td>\n      <td>80</td>\n      <td>14.249562</td>\n    </tr>\n    <tr>\n      <th rowspan=\"2\" valign=\"top\">2</th>\n      <th>0</th>\n      <td>33.167808</td>\n      <td>30</td>\n      <td>14.0000</td>\n      <td>70</td>\n      <td>12.235234</td>\n    </tr>\n    <tr>\n      <th>1</th>\n      <td>24.858696</td>\n      <td>25</td>\n      <td>0.6667</td>\n      <td>62</td>\n      <td>13.959568</td>\n    </tr>\n    <tr>\n      <th rowspan=\"2\" valign=\"top\">3</th>\n      <th>0</th>\n      <td>25.974549</td>\n      <td>25</td>\n      <td>0.3333</td>\n      <td>74</td>\n      <td>11.880771</td>\n    </tr>\n    <tr>\n      <th>1</th>\n      <td>21.545166</td>\n      <td>22</td>\n      <td>0.1667</td>\n      <td>63</td>\n      <td>11.607635</td>\n    </tr>\n    <tr>\n      <th>Total Survivors</th>\n      <th></th>\n      <td>29.881135</td>\n      <td>28</td>\n      <td>0.1667</td>\n      <td>80</td>\n      <td>14.406608</td>\n    </tr>\n  </tbody>\n</table>\n</div>",
            "text/plain": "                               mean median      min max        std\n                                age    age      age age        age\npclass          survived                                          \n1               0         43.247573     45   2.0000  71  14.227299\n                1         36.833794     36   0.9167  80  14.249562\n2               0         33.167808     30  14.0000  70  12.235234\n                1         24.858696     25   0.6667  62  13.959568\n3               0         25.974549     25   0.3333  74  11.880771\n                1         21.545166     22   0.1667  63  11.607635\nTotal Survivors           29.881135     28   0.1667  80  14.406608"
          },
          "metadata": {}
        }
      ]
    },
    {
      "metadata": {
        "trusted": true
      },
      "cell_type": "code",
      "source": "def remove_outliers(values):\n    mid_quantiles = values.quantile([.25, .75])\n    return np.mean(mid_quantiles)\npd.pivot_table(data, index= ['sex', 'survived'], values= \"age\", aggfunc= [np.mean, remove_outliers, np.median, min, max, np.std], fill_value= 0,\n              margins = True, margins_name= 'Total Survivors')",
      "execution_count": 18,
      "outputs": [
        {
          "output_type": "execute_result",
          "execution_count": 18,
          "data": {
            "text/html": "<div>\n<style scoped>\n    .dataframe tbody tr th:only-of-type {\n        vertical-align: middle;\n    }\n\n    .dataframe tbody tr th {\n        vertical-align: top;\n    }\n\n    .dataframe thead tr th {\n        text-align: left;\n    }\n\n    .dataframe thead tr:last-of-type th {\n        text-align: right;\n    }\n</style>\n<table border=\"1\" class=\"dataframe\">\n  <thead>\n    <tr>\n      <th></th>\n      <th></th>\n      <th>mean</th>\n      <th>remove_outliers</th>\n      <th>median</th>\n      <th>min</th>\n      <th>max</th>\n      <th>std</th>\n    </tr>\n    <tr>\n      <th></th>\n      <th></th>\n      <th>age</th>\n      <th>age</th>\n      <th>age</th>\n      <th>age</th>\n      <th>age</th>\n      <th>age</th>\n    </tr>\n    <tr>\n      <th>sex</th>\n      <th>survived</th>\n      <th></th>\n      <th></th>\n      <th></th>\n      <th></th>\n      <th></th>\n      <th></th>\n    </tr>\n  </thead>\n  <tbody>\n    <tr>\n      <th rowspan=\"2\" valign=\"top\">female</th>\n      <th>0</th>\n      <td>25.255208</td>\n      <td>24.625</td>\n      <td>24.5</td>\n      <td>1.0000</td>\n      <td>63</td>\n      <td>13.476880</td>\n    </tr>\n    <tr>\n      <th>1</th>\n      <td>29.815354</td>\n      <td>29.500</td>\n      <td>28.5</td>\n      <td>0.1667</td>\n      <td>76</td>\n      <td>14.769278</td>\n    </tr>\n    <tr>\n      <th rowspan=\"2\" valign=\"top\">male</th>\n      <th>0</th>\n      <td>31.516412</td>\n      <td>31.000</td>\n      <td>29.0</td>\n      <td>0.3333</td>\n      <td>74</td>\n      <td>13.796345</td>\n    </tr>\n    <tr>\n      <th>1</th>\n      <td>26.977778</td>\n      <td>27.750</td>\n      <td>27.0</td>\n      <td>0.4167</td>\n      <td>80</td>\n      <td>15.553884</td>\n    </tr>\n    <tr>\n      <th>Total Survivors</th>\n      <th></th>\n      <td>29.881135</td>\n      <td>30.000</td>\n      <td>28.0</td>\n      <td>0.1667</td>\n      <td>80</td>\n      <td>14.406608</td>\n    </tr>\n  </tbody>\n</table>\n</div>",
            "text/plain": "                               mean remove_outliers median     min max  \\\n                                age             age    age     age age   \nsex             survived                                                 \nfemale          0         25.255208          24.625   24.5  1.0000  63   \n                1         29.815354          29.500   28.5  0.1667  76   \nmale            0         31.516412          31.000   29.0  0.3333  74   \n                1         26.977778          27.750   27.0  0.4167  80   \nTotal Survivors           29.881135          30.000   28.0  0.1667  80   \n\n                                std  \n                                age  \nsex             survived             \nfemale          0         13.476880  \n                1         14.769278  \nmale            0         13.796345  \n                1         15.553884  \nTotal Survivors           14.406608  "
          },
          "metadata": {}
        }
      ]
    },
    {
      "metadata": {},
      "cell_type": "markdown",
      "source": "This table shows that female female survivors had a higher age than females that died, whereas the inverse is true with males."
    },
    {
      "metadata": {
        "trusted": true
      },
      "cell_type": "code",
      "source": "pd.pivot_table(data, index= ['pclass', 'sex'], values= \"fare\", aggfunc= [np.mean, remove_outliers, np.median, min, max, np.std], fill_value= 0,\n              margins = True, margins_name= 'Total Survivors')",
      "execution_count": 19,
      "outputs": [
        {
          "output_type": "execute_result",
          "execution_count": 19,
          "data": {
            "text/html": "<div>\n<style scoped>\n    .dataframe tbody tr th:only-of-type {\n        vertical-align: middle;\n    }\n\n    .dataframe tbody tr th {\n        vertical-align: top;\n    }\n\n    .dataframe thead tr th {\n        text-align: left;\n    }\n\n    .dataframe thead tr:last-of-type th {\n        text-align: right;\n    }\n</style>\n<table border=\"1\" class=\"dataframe\">\n  <thead>\n    <tr>\n      <th></th>\n      <th></th>\n      <th>mean</th>\n      <th>remove_outliers</th>\n      <th>median</th>\n      <th>min</th>\n      <th>max</th>\n      <th>std</th>\n    </tr>\n    <tr>\n      <th></th>\n      <th></th>\n      <th>fare</th>\n      <th>fare</th>\n      <th>fare</th>\n      <th>fare</th>\n      <th>fare</th>\n      <th>fare</th>\n    </tr>\n    <tr>\n      <th>pclass</th>\n      <th>sex</th>\n      <th></th>\n      <th></th>\n      <th></th>\n      <th></th>\n      <th></th>\n      <th></th>\n    </tr>\n  </thead>\n  <tbody>\n    <tr>\n      <th rowspan=\"2\" valign=\"top\">1</th>\n      <th>female</th>\n      <td>109.412385</td>\n      <td>95.680738</td>\n      <td>80.92915</td>\n      <td>25.70</td>\n      <td>512.3292</td>\n      <td>82.885854</td>\n    </tr>\n    <tr>\n      <th>male</th>\n      <td>69.888385</td>\n      <td>53.460400</td>\n      <td>49.50420</td>\n      <td>0.00</td>\n      <td>512.3292</td>\n      <td>74.079427</td>\n    </tr>\n    <tr>\n      <th rowspan=\"2\" valign=\"top\">2</th>\n      <th>female</th>\n      <td>23.234827</td>\n      <td>19.625000</td>\n      <td>23.00000</td>\n      <td>10.50</td>\n      <td>65.0000</td>\n      <td>11.239817</td>\n    </tr>\n    <tr>\n      <th>male</th>\n      <td>19.904946</td>\n      <td>19.175000</td>\n      <td>13.00000</td>\n      <td>0.00</td>\n      <td>73.5000</td>\n      <td>14.775149</td>\n    </tr>\n    <tr>\n      <th rowspan=\"2\" valign=\"top\">3</th>\n      <th>female</th>\n      <td>15.324250</td>\n      <td>12.812500</td>\n      <td>10.48960</td>\n      <td>6.75</td>\n      <td>69.5500</td>\n      <td>11.786512</td>\n    </tr>\n    <tr>\n      <th>male</th>\n      <td>12.415462</td>\n      <td>8.668225</td>\n      <td>7.89580</td>\n      <td>0.00</td>\n      <td>69.5500</td>\n      <td>11.261638</td>\n    </tr>\n    <tr>\n      <th>Total Survivors</th>\n      <th></th>\n      <td>33.295479</td>\n      <td>19.585400</td>\n      <td>14.45420</td>\n      <td>0.00</td>\n      <td>512.3292</td>\n      <td>51.738879</td>\n    </tr>\n  </tbody>\n</table>\n</div>",
            "text/plain": "                              mean remove_outliers    median    min       max  \\\n                              fare            fare      fare   fare      fare   \npclass          sex                                                             \n1               female  109.412385       95.680738  80.92915  25.70  512.3292   \n                male     69.888385       53.460400  49.50420   0.00  512.3292   \n2               female   23.234827       19.625000  23.00000  10.50   65.0000   \n                male     19.904946       19.175000  13.00000   0.00   73.5000   \n3               female   15.324250       12.812500  10.48960   6.75   69.5500   \n                male     12.415462        8.668225   7.89580   0.00   69.5500   \nTotal Survivors          33.295479       19.585400  14.45420   0.00  512.3292   \n\n                              std  \n                             fare  \npclass          sex                \n1               female  82.885854  \n                male    74.079427  \n2               female  11.239817  \n                male    14.775149  \n3               female  11.786512  \n                male    11.261638  \nTotal Survivors         51.738879  "
          },
          "metadata": {}
        }
      ]
    },
    {
      "metadata": {},
      "cell_type": "markdown",
      "source": "This seems to indicate that on average women paid higher fares than men, especially in first class where the average fare for women was about $40 higher."
    },
    {
      "metadata": {
        "trusted": true
      },
      "cell_type": "code",
      "source": "pd.pivot_table(data, index= 'pclass', columns= \"embarked\", values='survived', aggfunc='count', fill_value= 0,\n              margins = True, margins_name= 'Total Passengers')",
      "execution_count": 32,
      "outputs": [
        {
          "output_type": "execute_result",
          "execution_count": 32,
          "data": {
            "text/html": "<div>\n<style scoped>\n    .dataframe tbody tr th:only-of-type {\n        vertical-align: middle;\n    }\n\n    .dataframe tbody tr th {\n        vertical-align: top;\n    }\n\n    .dataframe thead th {\n        text-align: right;\n    }\n</style>\n<table border=\"1\" class=\"dataframe\">\n  <thead>\n    <tr style=\"text-align: right;\">\n      <th>embarked</th>\n      <th>C</th>\n      <th>Q</th>\n      <th>S</th>\n      <th>Total Passengers</th>\n    </tr>\n    <tr>\n      <th>pclass</th>\n      <th></th>\n      <th></th>\n      <th></th>\n      <th></th>\n    </tr>\n  </thead>\n  <tbody>\n    <tr>\n      <th>1</th>\n      <td>141</td>\n      <td>3</td>\n      <td>177</td>\n      <td>321</td>\n    </tr>\n    <tr>\n      <th>2</th>\n      <td>28</td>\n      <td>7</td>\n      <td>242</td>\n      <td>277</td>\n    </tr>\n    <tr>\n      <th>3</th>\n      <td>101</td>\n      <td>113</td>\n      <td>495</td>\n      <td>709</td>\n    </tr>\n    <tr>\n      <th>Total Passengers</th>\n      <td>270</td>\n      <td>123</td>\n      <td>914</td>\n      <td>1307</td>\n    </tr>\n  </tbody>\n</table>\n</div>",
            "text/plain": "embarked            C    Q    S  Total Passengers\npclass                                           \n1                 141    3  177               321\n2                  28    7  242               277\n3                 101  113  495               709\nTotal Passengers  270  123  914              1307"
          },
          "metadata": {}
        }
      ]
    },
    {
      "metadata": {},
      "cell_type": "markdown",
      "source": "This seems to show that most of the passengers embarked at S, that very few non 3rd class passengers embarked at Q, and that only 1 in 7 3rd class passengers came on at C."
    },
    {
      "metadata": {
        "trusted": true
      },
      "cell_type": "code",
      "source": "pd.pivot_table(data, index= 'pclass', columns= \"embarked\", values='survived', aggfunc='sum', fill_value= 0,\n              margins = True, margins_name= 'Total Survivors')",
      "execution_count": 35,
      "outputs": [
        {
          "output_type": "execute_result",
          "execution_count": 35,
          "data": {
            "text/html": "<div>\n<style scoped>\n    .dataframe tbody tr th:only-of-type {\n        vertical-align: middle;\n    }\n\n    .dataframe tbody tr th {\n        vertical-align: top;\n    }\n\n    .dataframe thead th {\n        text-align: right;\n    }\n</style>\n<table border=\"1\" class=\"dataframe\">\n  <thead>\n    <tr style=\"text-align: right;\">\n      <th>embarked</th>\n      <th>C</th>\n      <th>Q</th>\n      <th>S</th>\n      <th>Total Survivors</th>\n    </tr>\n    <tr>\n      <th>pclass</th>\n      <th></th>\n      <th></th>\n      <th></th>\n      <th></th>\n    </tr>\n  </thead>\n  <tbody>\n    <tr>\n      <th>1</th>\n      <td>97</td>\n      <td>2</td>\n      <td>99</td>\n      <td>198</td>\n    </tr>\n    <tr>\n      <th>2</th>\n      <td>16</td>\n      <td>2</td>\n      <td>101</td>\n      <td>119</td>\n    </tr>\n    <tr>\n      <th>3</th>\n      <td>37</td>\n      <td>40</td>\n      <td>104</td>\n      <td>181</td>\n    </tr>\n    <tr>\n      <th>Total Survivors</th>\n      <td>150</td>\n      <td>44</td>\n      <td>304</td>\n      <td>498</td>\n    </tr>\n  </tbody>\n</table>\n</div>",
            "text/plain": "embarked           C   Q    S  Total Survivors\npclass                                        \n1                 97   2   99              198\n2                 16   2  101              119\n3                 37  40  104              181\nTotal Survivors  150  44  304              498"
          },
          "metadata": {}
        }
      ]
    },
    {
      "metadata": {},
      "cell_type": "markdown",
      "source": "It seems that a little over half of the passengers who embarked at C survived compared to only about 1/3 at the other embarkment points.\nThis is probably because C was more popular with 1st class passengers than the the other classes."
    }
  ],
  "metadata": {
    "kernelspec": {
      "name": "python36",
      "display_name": "Python 3.6",
      "language": "python"
    },
    "language_info": {
      "mimetype": "text/x-python",
      "nbconvert_exporter": "python",
      "name": "python",
      "pygments_lexer": "ipython3",
      "version": "3.6.6",
      "file_extension": ".py",
      "codemirror_mode": {
        "version": 3,
        "name": "ipython"
      }
    }
  },
  "nbformat": 4,
  "nbformat_minor": 2
}